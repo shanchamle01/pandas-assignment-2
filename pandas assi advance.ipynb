{
 "cells": [
  {
   "cell_type": "code",
   "execution_count": 2,
   "id": "56e715c2-908d-4f84-a93b-b50aa1197bf5",
   "metadata": {},
   "outputs": [],
   "source": [
    "#q.1\n",
    "#1.data.head()\n",
    "#2.data.tail()\n",
    "#3.DataFrame.info()\n",
    "#4.Dtypes\n",
    "##5.data.shape\n",
    "#6.data.csv"
   ]
  },
  {
   "cell_type": "code",
   "execution_count": 4,
   "id": "08816156-b205-47ec-ac4e-d980f1b81e90",
   "metadata": {},
   "outputs": [],
   "source": [
    "import pandas as pd"
   ]
  },
  {
   "cell_type": "code",
   "execution_count": 7,
   "id": "930b4979-8f3a-4bf0-aafe-8a1d4a78a150",
   "metadata": {},
   "outputs": [],
   "source": [
    "#q.2\n",
    "data=({'a':['v','r','s','m'],\n",
    "      'b':[18,45,25,7],\n",
    "      'c':[230,250,180,300],\n",
    "      'd':[12,15,8,5]\n",
    "     })"
   ]
  },
  {
   "cell_type": "code",
   "execution_count": 11,
   "id": "48ac7d99-dc0b-4643-9b5d-9e35f8dd6209",
   "metadata": {},
   "outputs": [],
   "source": [
    "df=pd.DataFrame(data)"
   ]
  },
  {
   "cell_type": "code",
   "execution_count": 12,
   "id": "7f414fc2-4dc0-4c0e-a05f-bc0450874b77",
   "metadata": {},
   "outputs": [
    {
     "data": {
      "text/html": [
       "<div>\n",
       "<style scoped>\n",
       "    .dataframe tbody tr th:only-of-type {\n",
       "        vertical-align: middle;\n",
       "    }\n",
       "\n",
       "    .dataframe tbody tr th {\n",
       "        vertical-align: top;\n",
       "    }\n",
       "\n",
       "    .dataframe thead th {\n",
       "        text-align: right;\n",
       "    }\n",
       "</style>\n",
       "<table border=\"1\" class=\"dataframe\">\n",
       "  <thead>\n",
       "    <tr style=\"text-align: right;\">\n",
       "      <th></th>\n",
       "      <th>a</th>\n",
       "      <th>b</th>\n",
       "      <th>c</th>\n",
       "      <th>d</th>\n",
       "    </tr>\n",
       "  </thead>\n",
       "  <tbody>\n",
       "    <tr>\n",
       "      <th>0</th>\n",
       "      <td>v</td>\n",
       "      <td>18</td>\n",
       "      <td>230</td>\n",
       "      <td>12</td>\n",
       "    </tr>\n",
       "    <tr>\n",
       "      <th>1</th>\n",
       "      <td>r</td>\n",
       "      <td>45</td>\n",
       "      <td>250</td>\n",
       "      <td>15</td>\n",
       "    </tr>\n",
       "    <tr>\n",
       "      <th>2</th>\n",
       "      <td>s</td>\n",
       "      <td>25</td>\n",
       "      <td>180</td>\n",
       "      <td>8</td>\n",
       "    </tr>\n",
       "    <tr>\n",
       "      <th>3</th>\n",
       "      <td>m</td>\n",
       "      <td>7</td>\n",
       "      <td>300</td>\n",
       "      <td>5</td>\n",
       "    </tr>\n",
       "  </tbody>\n",
       "</table>\n",
       "</div>"
      ],
      "text/plain": [
       "   a   b    c   d\n",
       "0  v  18  230  12\n",
       "1  r  45  250  15\n",
       "2  s  25  180   8\n",
       "3  m   7  300   5"
      ]
     },
     "execution_count": 12,
     "metadata": {},
     "output_type": "execute_result"
    }
   ],
   "source": [
    "df"
   ]
  },
  {
   "cell_type": "code",
   "execution_count": 21,
   "id": "938a7777-385f-4a76-8b66-e589528a3710",
   "metadata": {},
   "outputs": [],
   "source": [
    "df1=pd.DataFrame(data,index=['A','B','C','D'])"
   ]
  },
  {
   "cell_type": "code",
   "execution_count": 24,
   "id": "1045bd9f-82b6-4578-8056-7e9ec705b395",
   "metadata": {},
   "outputs": [
    {
     "data": {
      "text/html": [
       "<div>\n",
       "<style scoped>\n",
       "    .dataframe tbody tr th:only-of-type {\n",
       "        vertical-align: middle;\n",
       "    }\n",
       "\n",
       "    .dataframe tbody tr th {\n",
       "        vertical-align: top;\n",
       "    }\n",
       "\n",
       "    .dataframe thead th {\n",
       "        text-align: right;\n",
       "    }\n",
       "</style>\n",
       "<table border=\"1\" class=\"dataframe\">\n",
       "  <thead>\n",
       "    <tr style=\"text-align: right;\">\n",
       "      <th></th>\n",
       "      <th>a</th>\n",
       "      <th>b</th>\n",
       "      <th>c</th>\n",
       "      <th>d</th>\n",
       "    </tr>\n",
       "  </thead>\n",
       "  <tbody>\n",
       "    <tr>\n",
       "      <th>A</th>\n",
       "      <td>v</td>\n",
       "      <td>18</td>\n",
       "      <td>230</td>\n",
       "      <td>12</td>\n",
       "    </tr>\n",
       "    <tr>\n",
       "      <th>B</th>\n",
       "      <td>r</td>\n",
       "      <td>45</td>\n",
       "      <td>250</td>\n",
       "      <td>15</td>\n",
       "    </tr>\n",
       "    <tr>\n",
       "      <th>C</th>\n",
       "      <td>s</td>\n",
       "      <td>25</td>\n",
       "      <td>180</td>\n",
       "      <td>8</td>\n",
       "    </tr>\n",
       "    <tr>\n",
       "      <th>D</th>\n",
       "      <td>m</td>\n",
       "      <td>7</td>\n",
       "      <td>300</td>\n",
       "      <td>5</td>\n",
       "    </tr>\n",
       "  </tbody>\n",
       "</table>\n",
       "</div>"
      ],
      "text/plain": [
       "   a   b    c   d\n",
       "A  v  18  230  12\n",
       "B  r  45  250  15\n",
       "C  s  25  180   8\n",
       "D  m   7  300   5"
      ]
     },
     "execution_count": 24,
     "metadata": {},
     "output_type": "execute_result"
    }
   ],
   "source": [
    "df1"
   ]
  },
  {
   "cell_type": "code",
   "execution_count": 30,
   "id": "32bc776d-611f-44a8-a873-5766e2840dac",
   "metadata": {},
   "outputs": [],
   "source": [
    "df.set_index(\"a\",inplace=True)"
   ]
  },
  {
   "cell_type": "code",
   "execution_count": 31,
   "id": "786121d0-b762-4a0c-a39d-e65fea43c302",
   "metadata": {},
   "outputs": [],
   "source": [
    "df=df.reset_index()"
   ]
  },
  {
   "cell_type": "code",
   "execution_count": 32,
   "id": "fc9e6c89-d0ec-4e16-becd-78223e8555e9",
   "metadata": {},
   "outputs": [
    {
     "data": {
      "text/html": [
       "<div>\n",
       "<style scoped>\n",
       "    .dataframe tbody tr th:only-of-type {\n",
       "        vertical-align: middle;\n",
       "    }\n",
       "\n",
       "    .dataframe tbody tr th {\n",
       "        vertical-align: top;\n",
       "    }\n",
       "\n",
       "    .dataframe thead th {\n",
       "        text-align: right;\n",
       "    }\n",
       "</style>\n",
       "<table border=\"1\" class=\"dataframe\">\n",
       "  <thead>\n",
       "    <tr style=\"text-align: right;\">\n",
       "      <th></th>\n",
       "      <th>a</th>\n",
       "      <th>b</th>\n",
       "      <th>c</th>\n",
       "      <th>d</th>\n",
       "    </tr>\n",
       "  </thead>\n",
       "  <tbody>\n",
       "    <tr>\n",
       "      <th>0</th>\n",
       "      <td>v</td>\n",
       "      <td>18</td>\n",
       "      <td>230</td>\n",
       "      <td>12</td>\n",
       "    </tr>\n",
       "    <tr>\n",
       "      <th>1</th>\n",
       "      <td>r</td>\n",
       "      <td>45</td>\n",
       "      <td>250</td>\n",
       "      <td>15</td>\n",
       "    </tr>\n",
       "    <tr>\n",
       "      <th>2</th>\n",
       "      <td>s</td>\n",
       "      <td>25</td>\n",
       "      <td>180</td>\n",
       "      <td>8</td>\n",
       "    </tr>\n",
       "    <tr>\n",
       "      <th>3</th>\n",
       "      <td>m</td>\n",
       "      <td>7</td>\n",
       "      <td>300</td>\n",
       "      <td>5</td>\n",
       "    </tr>\n",
       "  </tbody>\n",
       "</table>\n",
       "</div>"
      ],
      "text/plain": [
       "   a   b    c   d\n",
       "0  v  18  230  12\n",
       "1  r  45  250  15\n",
       "2  s  25  180   8\n",
       "3  m   7  300   5"
      ]
     },
     "execution_count": 32,
     "metadata": {},
     "output_type": "execute_result"
    }
   ],
   "source": [
    "df"
   ]
  },
  {
   "cell_type": "code",
   "execution_count": 33,
   "id": "bd4e5c18-064b-450e-b9d4-a274a73c2d59",
   "metadata": {},
   "outputs": [
    {
     "data": {
      "text/html": [
       "<div>\n",
       "<style scoped>\n",
       "    .dataframe tbody tr th:only-of-type {\n",
       "        vertical-align: middle;\n",
       "    }\n",
       "\n",
       "    .dataframe tbody tr th {\n",
       "        vertical-align: top;\n",
       "    }\n",
       "\n",
       "    .dataframe thead th {\n",
       "        text-align: right;\n",
       "    }\n",
       "</style>\n",
       "<table border=\"1\" class=\"dataframe\">\n",
       "  <thead>\n",
       "    <tr style=\"text-align: right;\">\n",
       "      <th></th>\n",
       "      <th>index</th>\n",
       "      <th>a</th>\n",
       "      <th>b</th>\n",
       "      <th>c</th>\n",
       "      <th>d</th>\n",
       "    </tr>\n",
       "  </thead>\n",
       "  <tbody>\n",
       "    <tr>\n",
       "      <th>1</th>\n",
       "      <td>B</td>\n",
       "      <td>r</td>\n",
       "      <td>45.0</td>\n",
       "      <td>250.0</td>\n",
       "      <td>15.0</td>\n",
       "    </tr>\n",
       "    <tr>\n",
       "      <th>3</th>\n",
       "      <td>D</td>\n",
       "      <td>m</td>\n",
       "      <td>7.0</td>\n",
       "      <td>300.0</td>\n",
       "      <td>5.0</td>\n",
       "    </tr>\n",
       "    <tr>\n",
       "      <th>5</th>\n",
       "      <td>NaN</td>\n",
       "      <td>NaN</td>\n",
       "      <td>NaN</td>\n",
       "      <td>NaN</td>\n",
       "      <td>NaN</td>\n",
       "    </tr>\n",
       "    <tr>\n",
       "      <th>7</th>\n",
       "      <td>NaN</td>\n",
       "      <td>NaN</td>\n",
       "      <td>NaN</td>\n",
       "      <td>NaN</td>\n",
       "      <td>NaN</td>\n",
       "    </tr>\n",
       "  </tbody>\n",
       "</table>\n",
       "</div>"
      ],
      "text/plain": [
       "  index    a     b      c     d\n",
       "1     B    r  45.0  250.0  15.0\n",
       "3     D    m   7.0  300.0   5.0\n",
       "5   NaN  NaN   NaN    NaN   NaN\n",
       "7   NaN  NaN   NaN    NaN   NaN"
      ]
     },
     "execution_count": 33,
     "metadata": {},
     "output_type": "execute_result"
    }
   ],
   "source": [
    "df1.reindex([1,3,5,7])"
   ]
  },
  {
   "cell_type": "code",
   "execution_count": 35,
   "id": "86b73b17-ef4e-4c5b-b229-a5d7ac8639e5",
   "metadata": {},
   "outputs": [],
   "source": [
    "#q.3\n",
    "data=({'values':[30,40,50,60,90]\n",
    "})"
   ]
  },
  {
   "cell_type": "code",
   "execution_count": 45,
   "id": "c54af5e4-6adf-4a40-a4e8-09db8248f984",
   "metadata": {},
   "outputs": [
    {
     "data": {
      "text/html": [
       "<div>\n",
       "<style scoped>\n",
       "    .dataframe tbody tr th:only-of-type {\n",
       "        vertical-align: middle;\n",
       "    }\n",
       "\n",
       "    .dataframe tbody tr th {\n",
       "        vertical-align: top;\n",
       "    }\n",
       "\n",
       "    .dataframe thead th {\n",
       "        text-align: right;\n",
       "    }\n",
       "</style>\n",
       "<table border=\"1\" class=\"dataframe\">\n",
       "  <thead>\n",
       "    <tr style=\"text-align: right;\">\n",
       "      <th></th>\n",
       "      <th>values</th>\n",
       "    </tr>\n",
       "  </thead>\n",
       "  <tbody>\n",
       "    <tr>\n",
       "      <th>0</th>\n",
       "      <td>30</td>\n",
       "    </tr>\n",
       "    <tr>\n",
       "      <th>1</th>\n",
       "      <td>40</td>\n",
       "    </tr>\n",
       "    <tr>\n",
       "      <th>2</th>\n",
       "      <td>50</td>\n",
       "    </tr>\n",
       "    <tr>\n",
       "      <th>3</th>\n",
       "      <td>60</td>\n",
       "    </tr>\n",
       "    <tr>\n",
       "      <th>4</th>\n",
       "      <td>90</td>\n",
       "    </tr>\n",
       "  </tbody>\n",
       "</table>\n",
       "</div>"
      ],
      "text/plain": [
       "   values\n",
       "0      30\n",
       "1      40\n",
       "2      50\n",
       "3      60\n",
       "4      90"
      ]
     },
     "execution_count": 45,
     "metadata": {},
     "output_type": "execute_result"
    }
   ],
   "source": [
    "pd.DataFrame(data)"
   ]
  },
  {
   "cell_type": "code",
   "execution_count": 39,
   "id": "05524369-a732-41b0-9d63-5230fe96070f",
   "metadata": {},
   "outputs": [
    {
     "name": "stdout",
     "output_type": "stream",
     "text": [
      "(0, values    30\n",
      "Name: 0, dtype: int64)\n",
      "(1, values    40\n",
      "Name: 1, dtype: int64)\n",
      "(2, values    50\n",
      "Name: 2, dtype: int64)\n",
      "(3, values    60\n",
      "Name: 3, dtype: int64)\n",
      "(4, values    90\n",
      "Name: 4, dtype: int64)\n"
     ]
    }
   ],
   "source": [
    "for values in df.iterrows():\n",
    "    print(values)"
   ]
  },
  {
   "cell_type": "code",
   "execution_count": 48,
   "id": "1c3e4138-b6c6-4f19-826b-8a33847ce545",
   "metadata": {},
   "outputs": [],
   "source": [
    "def test(x):\n",
    "    return x.sum()\n",
    "    df.apply(test,axis=0)"
   ]
  },
  {
   "cell_type": "code",
   "execution_count": 60,
   "id": "20dcc7bd-2c40-4f0f-a542-06eaba3e9159",
   "metadata": {
    "scrolled": true
   },
   "outputs": [],
   "source": [
    "#q.4\n",
    "pd.set_option(\"display.max_colwidth\",100)\n",
    "df=pd.DataFrame({'text':[\"Ethical hacking is a process of detecting vulnerabilities in an application, system, or organization's infrastructure that an attacker can use to exploit an individual or organization. They use this process to prevent cyberattacks and security breaches by lawfully hacking into the systems and looking for weak points.\"]})"
   ]
  },
  {
   "cell_type": "code",
   "execution_count": 61,
   "id": "6d972dd3-2395-4596-bbea-b098e0fed9e1",
   "metadata": {},
   "outputs": [],
   "source": [
    "df[\"word_count\"]=df['text'].apply(lambda x:len(x.split()))"
   ]
  },
  {
   "cell_type": "code",
   "execution_count": 62,
   "id": "027e62c6-85fb-4479-b5bc-de79d291e2f4",
   "metadata": {},
   "outputs": [
    {
     "data": {
      "text/html": [
       "<div>\n",
       "<style scoped>\n",
       "    .dataframe tbody tr th:only-of-type {\n",
       "        vertical-align: middle;\n",
       "    }\n",
       "\n",
       "    .dataframe tbody tr th {\n",
       "        vertical-align: top;\n",
       "    }\n",
       "\n",
       "    .dataframe thead th {\n",
       "        text-align: right;\n",
       "    }\n",
       "</style>\n",
       "<table border=\"1\" class=\"dataframe\">\n",
       "  <thead>\n",
       "    <tr style=\"text-align: right;\">\n",
       "      <th></th>\n",
       "      <th>text</th>\n",
       "      <th>word_count</th>\n",
       "    </tr>\n",
       "  </thead>\n",
       "  <tbody>\n",
       "    <tr>\n",
       "      <th>0</th>\n",
       "      <td>Ethical hacking is a process of detecting vulnerabilities in an application, system, or organiza...</td>\n",
       "      <td>47</td>\n",
       "    </tr>\n",
       "  </tbody>\n",
       "</table>\n",
       "</div>"
      ],
      "text/plain": [
       "                                                                                                  text  \\\n",
       "0  Ethical hacking is a process of detecting vulnerabilities in an application, system, or organiza...   \n",
       "\n",
       "   word_count  \n",
       "0          47  "
      ]
     },
     "execution_count": 62,
     "metadata": {},
     "output_type": "execute_result"
    }
   ],
   "source": [
    "df"
   ]
  },
  {
   "cell_type": "code",
   "execution_count": 63,
   "id": "1f2232be-8ac1-4595-af86-0695a16eb8e2",
   "metadata": {},
   "outputs": [],
   "source": [
    "#q.5\n",
    "#The shape property is used to get a tuple representing the dimensionality of the Pandas DataFrame.\n",
    "\n",
    "#df.size:\n",
    "#The size property is used to get an int representing the number of elements in this object and Return the number of rows if Series. Otherwise, return the number of rows times the number of columns if DataFrame\n"
   ]
  },
  {
   "cell_type": "code",
   "execution_count": 64,
   "id": "0e4ae169-315a-4a06-84aa-b93c7b3a18cd",
   "metadata": {},
   "outputs": [],
   "source": [
    "#q.6\n",
    "#pd.read_xlsx(\" \".xlsx)"
   ]
  },
  {
   "cell_type": "code",
   "execution_count": 88,
   "id": "a57f891c-dd28-45a9-84f0-7c2ad6ea5294",
   "metadata": {},
   "outputs": [],
   "source": [
    "#q.7 \n",
    "data1=({'email':[\"rahul.j@domain.com\",\"ram@domain.com\",\"joe.g@domain.com\"]})"
   ]
  },
  {
   "cell_type": "code",
   "execution_count": 84,
   "id": "0aa3de1b-73f6-4749-a971-874098abecc8",
   "metadata": {},
   "outputs": [],
   "source": [
    "df=pd.DataFrame(data1)"
   ]
  },
  {
   "cell_type": "code",
   "execution_count": 85,
   "id": "fc953d62-6477-4717-8925-0dcf08c879e8",
   "metadata": {},
   "outputs": [],
   "source": [
    "username=['rahul.j','ram','joe.j']"
   ]
  },
  {
   "cell_type": "code",
   "execution_count": 86,
   "id": "cf53d5c7-cb2c-44bd-89a5-c81907926780",
   "metadata": {},
   "outputs": [],
   "source": [
    "df['username']=username"
   ]
  },
  {
   "cell_type": "code",
   "execution_count": 87,
   "id": "ac83ae70-7bc3-4e87-8abc-c019654a4476",
   "metadata": {},
   "outputs": [
    {
     "name": "stdout",
     "output_type": "stream",
     "text": [
      "                email username\n",
      "0  rahul.j@domain.com  rahul.j\n",
      "1      ram@domain.com      ram\n",
      "2    joe.g@domain.com    joe.j\n"
     ]
    }
   ],
   "source": [
    "print(df)"
   ]
  },
  {
   "cell_type": "code",
   "execution_count": 97,
   "id": "720385e8-25a5-45eb-b7bb-b379c62ff04e",
   "metadata": {},
   "outputs": [],
   "source": [
    "#q.9\n",
    "data=({'name':['rahul','shyam','aryan','krishns'],\n",
    "       'age':[18,19,19,20],\n",
    "       'id':[201,202,203,204]\n",
    "      })"
   ]
  },
  {
   "cell_type": "code",
   "execution_count": 91,
   "id": "bed5c6e7-65f4-498a-8ff2-bc51e8d0f7f4",
   "metadata": {},
   "outputs": [],
   "source": [
    "df=pd.DataFrame(data)"
   ]
  },
  {
   "cell_type": "code",
   "execution_count": 92,
   "id": "19b6c11f-857a-481f-9a4d-c5db0fdffeec",
   "metadata": {},
   "outputs": [
    {
     "data": {
      "text/plain": [
       "19.0"
      ]
     },
     "execution_count": 92,
     "metadata": {},
     "output_type": "execute_result"
    }
   ],
   "source": [
    "df['age'].mean()"
   ]
  },
  {
   "cell_type": "code",
   "execution_count": 93,
   "id": "10c659de-091e-40d4-8a47-ae1ae3fdb061",
   "metadata": {},
   "outputs": [
    {
     "data": {
      "text/html": [
       "<div>\n",
       "<style scoped>\n",
       "    .dataframe tbody tr th:only-of-type {\n",
       "        vertical-align: middle;\n",
       "    }\n",
       "\n",
       "    .dataframe tbody tr th {\n",
       "        vertical-align: top;\n",
       "    }\n",
       "\n",
       "    .dataframe thead th {\n",
       "        text-align: right;\n",
       "    }\n",
       "</style>\n",
       "<table border=\"1\" class=\"dataframe\">\n",
       "  <thead>\n",
       "    <tr style=\"text-align: right;\">\n",
       "      <th></th>\n",
       "      <th>name</th>\n",
       "      <th>age</th>\n",
       "      <th>id</th>\n",
       "    </tr>\n",
       "  </thead>\n",
       "  <tbody>\n",
       "    <tr>\n",
       "      <th>0</th>\n",
       "      <td>rahul</td>\n",
       "      <td>18</td>\n",
       "      <td>201</td>\n",
       "    </tr>\n",
       "    <tr>\n",
       "      <th>1</th>\n",
       "      <td>shyam</td>\n",
       "      <td>19</td>\n",
       "      <td>202</td>\n",
       "    </tr>\n",
       "    <tr>\n",
       "      <th>2</th>\n",
       "      <td>aryan</td>\n",
       "      <td>19</td>\n",
       "      <td>203</td>\n",
       "    </tr>\n",
       "    <tr>\n",
       "      <th>3</th>\n",
       "      <td>krishns</td>\n",
       "      <td>20</td>\n",
       "      <td>204</td>\n",
       "    </tr>\n",
       "  </tbody>\n",
       "</table>\n",
       "</div>"
      ],
      "text/plain": [
       "      name  age   id\n",
       "0    rahul   18  201\n",
       "1    shyam   19  202\n",
       "2    aryan   19  203\n",
       "3  krishns   20  204"
      ]
     },
     "execution_count": 93,
     "metadata": {},
     "output_type": "execute_result"
    }
   ],
   "source": [
    "df"
   ]
  },
  {
   "cell_type": "code",
   "execution_count": 94,
   "id": "70fde039-9a47-4d32-813b-834565c5e972",
   "metadata": {},
   "outputs": [
    {
     "data": {
      "text/plain": [
       "19.0"
      ]
     },
     "execution_count": 94,
     "metadata": {},
     "output_type": "execute_result"
    }
   ],
   "source": [
    "df['age'].median()"
   ]
  },
  {
   "cell_type": "code",
   "execution_count": 96,
   "id": "b516c428-21df-4c9e-840e-46afb26b9c15",
   "metadata": {},
   "outputs": [
    {
     "data": {
      "text/plain": [
       "0.816496580927726"
      ]
     },
     "execution_count": 96,
     "metadata": {},
     "output_type": "execute_result"
    }
   ],
   "source": [
    "df['age'].std()"
   ]
  },
  {
   "cell_type": "code",
   "execution_count": 98,
   "id": "060c555a-f631-4b1b-b6e2-4860c5926122",
   "metadata": {},
   "outputs": [],
   "source": [
    "#q.11\n",
    "data=({'date':['2023-3-1','2023-3-2','2023-3-3','2023-3-4']\n",
    "      })"
   ]
  },
  {
   "cell_type": "code",
   "execution_count": 100,
   "id": "1a540333-bed8-4a43-8690-09b2630b0d3d",
   "metadata": {},
   "outputs": [],
   "source": [
    "df1=pd.DataFrame(data)"
   ]
  },
  {
   "cell_type": "code",
   "execution_count": 101,
   "id": "466e7cd3-a0a3-446f-9cec-24ac49689be0",
   "metadata": {},
   "outputs": [],
   "source": [
    "weekday=['monday','tuesday','wednesday','thursday']"
   ]
  },
  {
   "cell_type": "code",
   "execution_count": 102,
   "id": "983056be-7dae-455b-a5bf-6cbb72807d79",
   "metadata": {},
   "outputs": [],
   "source": [
    "df1['weekday']=weekday"
   ]
  },
  {
   "cell_type": "code",
   "execution_count": 103,
   "id": "cc9289fe-d7b6-4caa-843d-64d4ff54b70a",
   "metadata": {},
   "outputs": [
    {
     "data": {
      "text/html": [
       "<div>\n",
       "<style scoped>\n",
       "    .dataframe tbody tr th:only-of-type {\n",
       "        vertical-align: middle;\n",
       "    }\n",
       "\n",
       "    .dataframe tbody tr th {\n",
       "        vertical-align: top;\n",
       "    }\n",
       "\n",
       "    .dataframe thead th {\n",
       "        text-align: right;\n",
       "    }\n",
       "</style>\n",
       "<table border=\"1\" class=\"dataframe\">\n",
       "  <thead>\n",
       "    <tr style=\"text-align: right;\">\n",
       "      <th></th>\n",
       "      <th>date</th>\n",
       "      <th>weekday</th>\n",
       "    </tr>\n",
       "  </thead>\n",
       "  <tbody>\n",
       "    <tr>\n",
       "      <th>0</th>\n",
       "      <td>2023-3-1</td>\n",
       "      <td>monday</td>\n",
       "    </tr>\n",
       "    <tr>\n",
       "      <th>1</th>\n",
       "      <td>2023-3-2</td>\n",
       "      <td>tuesday</td>\n",
       "    </tr>\n",
       "    <tr>\n",
       "      <th>2</th>\n",
       "      <td>2023-3-3</td>\n",
       "      <td>wednesday</td>\n",
       "    </tr>\n",
       "    <tr>\n",
       "      <th>3</th>\n",
       "      <td>2023-3-4</td>\n",
       "      <td>thursday</td>\n",
       "    </tr>\n",
       "  </tbody>\n",
       "</table>\n",
       "</div>"
      ],
      "text/plain": [
       "       date    weekday\n",
       "0  2023-3-1     monday\n",
       "1  2023-3-2    tuesday\n",
       "2  2023-3-3  wednesday\n",
       "3  2023-3-4   thursday"
      ]
     },
     "execution_count": 103,
     "metadata": {},
     "output_type": "execute_result"
    }
   ],
   "source": [
    "df1"
   ]
  },
  {
   "cell_type": "code",
   "execution_count": 114,
   "id": "f9635351-23e2-446c-8e3c-b3b9f8b1467d",
   "metadata": {},
   "outputs": [],
   "source": [
    "#q.12\n",
    "date=pd.date_range(start='2023-01-01',end='2023-01-31')"
   ]
  },
  {
   "cell_type": "code",
   "execution_count": 105,
   "id": "49ba04f1-b92b-4d44-91ea-993f2e84f350",
   "metadata": {},
   "outputs": [
    {
     "data": {
      "text/plain": [
       "DatetimeIndex(['2023-01-01', '2023-01-02', '2023-01-03', '2023-01-04',\n",
       "               '2023-01-05', '2023-01-06', '2023-01-07', '2023-01-08',\n",
       "               '2023-01-09', '2023-01-10', '2023-01-11', '2023-01-12',\n",
       "               '2023-01-13', '2023-01-14', '2023-01-15', '2023-01-16',\n",
       "               '2023-01-17', '2023-01-18', '2023-01-19', '2023-01-20',\n",
       "               '2023-01-21', '2023-01-22', '2023-01-23', '2023-01-24',\n",
       "               '2023-01-25', '2023-01-26', '2023-01-27', '2023-01-28',\n",
       "               '2023-01-29', '2023-01-30', '2023-01-31'],\n",
       "              dtype='datetime64[ns]', freq='D')"
      ]
     },
     "execution_count": 105,
     "metadata": {},
     "output_type": "execute_result"
    }
   ],
   "source": [
    "date"
   ]
  },
  {
   "cell_type": "code",
   "execution_count": 106,
   "id": "79aa37ba-315e-470d-ad58-eb2c5d28bdd6",
   "metadata": {},
   "outputs": [],
   "source": [
    "dt=pd.Timedelta(days=31,hours=4,minutes=00) "
   ]
  },
  {
   "cell_type": "code",
   "execution_count": 107,
   "id": "60a1e67e-2dcf-4028-9477-d49f9f6cd148",
   "metadata": {},
   "outputs": [
    {
     "data": {
      "text/plain": [
       "Timedelta('31 days 04:00:00')"
      ]
     },
     "execution_count": 107,
     "metadata": {},
     "output_type": "execute_result"
    }
   ],
   "source": [
    "dt"
   ]
  },
  {
   "cell_type": "code",
   "execution_count": 109,
   "id": "67b16b06-e71e-49b2-9ca4-3a13415e8496",
   "metadata": {},
   "outputs": [],
   "source": [
    "dt=pd.to_datetime('2023-01-01')"
   ]
  },
  {
   "cell_type": "code",
   "execution_count": 110,
   "id": "49eab7de-2096-42fd-91a2-6939cd7f2efb",
   "metadata": {},
   "outputs": [
    {
     "data": {
      "text/plain": [
       "Timestamp('2023-01-01 00:00:00')"
      ]
     },
     "execution_count": 110,
     "metadata": {},
     "output_type": "execute_result"
    }
   ],
   "source": [
    "dt"
   ]
  },
  {
   "cell_type": "code",
   "execution_count": 111,
   "id": "77e11d36-9480-4fcc-ba93-a4fc3d439f3d",
   "metadata": {},
   "outputs": [],
   "source": [
    "td=pd.Timedelta(days=31)"
   ]
  },
  {
   "cell_type": "code",
   "execution_count": 112,
   "id": "2552447f-f95b-4e8e-8d3e-06e8ecf5c846",
   "metadata": {},
   "outputs": [
    {
     "data": {
      "text/plain": [
       "Timedelta('31 days 00:00:00')"
      ]
     },
     "execution_count": 112,
     "metadata": {},
     "output_type": "execute_result"
    }
   ],
   "source": [
    "td"
   ]
  },
  {
   "cell_type": "code",
   "execution_count": 113,
   "id": "d7af908c-4055-42eb-a271-14fdc9800007",
   "metadata": {},
   "outputs": [
    {
     "data": {
      "text/plain": [
       "DatetimeIndex(['2023-02-01', '2023-02-02', '2023-02-03', '2023-02-04',\n",
       "               '2023-02-05', '2023-02-06', '2023-02-07', '2023-02-08',\n",
       "               '2023-02-09', '2023-02-10', '2023-02-11', '2023-02-12',\n",
       "               '2023-02-13', '2023-02-14', '2023-02-15', '2023-02-16',\n",
       "               '2023-02-17', '2023-02-18', '2023-02-19', '2023-02-20',\n",
       "               '2023-02-21', '2023-02-22', '2023-02-23', '2023-02-24',\n",
       "               '2023-02-25', '2023-02-26', '2023-02-27', '2023-02-28',\n",
       "               '2023-03-01', '2023-03-02', '2023-03-03'],\n",
       "              dtype='datetime64[ns]', freq='D')"
      ]
     },
     "execution_count": 113,
     "metadata": {},
     "output_type": "execute_result"
    }
   ],
   "source": [
    "td+date"
   ]
  },
  {
   "cell_type": "code",
   "execution_count": 115,
   "id": "78b082cb-1b1b-4d37-8f32-c832f635b139",
   "metadata": {},
   "outputs": [],
   "source": [
    "#q.13\n",
    "#To use the basic functions of pandas, what is the first and foremost necessary library that needs to import numpy and matplotlib for data visualization"
   ]
  },
  {
   "cell_type": "code",
   "execution_count": 116,
   "id": "a93afdb9-b3a6-47a9-bcdf-26bc1a4fe4af",
   "metadata": {},
   "outputs": [],
   "source": [
    "#q.10\n",
    "data=({'sales':[34,45,67,78,45,50,54],\n",
    "       'date':['2023-04-20','2023-04-21','2023-04-22','2023-04-23','2023-04-24','2023-04-25','2023-04-26']\n",
    "      })"
   ]
  },
  {
   "cell_type": "code",
   "execution_count": 118,
   "id": "0e055416-cc97-4e1c-9690-75ac68943d75",
   "metadata": {},
   "outputs": [],
   "source": [
    "df4=pd.DataFrame(data)"
   ]
  },
  {
   "cell_type": "code",
   "execution_count": 119,
   "id": "bea2f152-a0b2-4c73-8738-33b7c9abd2a6",
   "metadata": {},
   "outputs": [],
   "source": [
    "MovingAverage=[34,45,46,47,49,50,48]"
   ]
  },
  {
   "cell_type": "code",
   "execution_count": 120,
   "id": "e51c1a58-f6d2-4567-b1d0-b876b9939e62",
   "metadata": {},
   "outputs": [],
   "source": [
    "df4['MovingAverage']=MovingAverage"
   ]
  },
  {
   "cell_type": "code",
   "execution_count": 121,
   "id": "3b20ba9e-3c01-4069-8644-a0206cd350dd",
   "metadata": {},
   "outputs": [
    {
     "data": {
      "text/html": [
       "<div>\n",
       "<style scoped>\n",
       "    .dataframe tbody tr th:only-of-type {\n",
       "        vertical-align: middle;\n",
       "    }\n",
       "\n",
       "    .dataframe tbody tr th {\n",
       "        vertical-align: top;\n",
       "    }\n",
       "\n",
       "    .dataframe thead th {\n",
       "        text-align: right;\n",
       "    }\n",
       "</style>\n",
       "<table border=\"1\" class=\"dataframe\">\n",
       "  <thead>\n",
       "    <tr style=\"text-align: right;\">\n",
       "      <th></th>\n",
       "      <th>sales</th>\n",
       "      <th>date</th>\n",
       "      <th>MovingAverage</th>\n",
       "    </tr>\n",
       "  </thead>\n",
       "  <tbody>\n",
       "    <tr>\n",
       "      <th>0</th>\n",
       "      <td>34</td>\n",
       "      <td>2023-04-20</td>\n",
       "      <td>34</td>\n",
       "    </tr>\n",
       "    <tr>\n",
       "      <th>1</th>\n",
       "      <td>45</td>\n",
       "      <td>2023-04-21</td>\n",
       "      <td>45</td>\n",
       "    </tr>\n",
       "    <tr>\n",
       "      <th>2</th>\n",
       "      <td>67</td>\n",
       "      <td>2023-04-22</td>\n",
       "      <td>46</td>\n",
       "    </tr>\n",
       "    <tr>\n",
       "      <th>3</th>\n",
       "      <td>78</td>\n",
       "      <td>2023-04-23</td>\n",
       "      <td>47</td>\n",
       "    </tr>\n",
       "    <tr>\n",
       "      <th>4</th>\n",
       "      <td>45</td>\n",
       "      <td>2023-04-24</td>\n",
       "      <td>49</td>\n",
       "    </tr>\n",
       "    <tr>\n",
       "      <th>5</th>\n",
       "      <td>50</td>\n",
       "      <td>2023-04-25</td>\n",
       "      <td>50</td>\n",
       "    </tr>\n",
       "    <tr>\n",
       "      <th>6</th>\n",
       "      <td>54</td>\n",
       "      <td>2023-04-26</td>\n",
       "      <td>48</td>\n",
       "    </tr>\n",
       "  </tbody>\n",
       "</table>\n",
       "</div>"
      ],
      "text/plain": [
       "   sales        date  MovingAverage\n",
       "0     34  2023-04-20             34\n",
       "1     45  2023-04-21             45\n",
       "2     67  2023-04-22             46\n",
       "3     78  2023-04-23             47\n",
       "4     45  2023-04-24             49\n",
       "5     50  2023-04-25             50\n",
       "6     54  2023-04-26             48"
      ]
     },
     "execution_count": 121,
     "metadata": {},
     "output_type": "execute_result"
    }
   ],
   "source": [
    "df4"
   ]
  },
  {
   "cell_type": "code",
   "execution_count": 127,
   "id": "29af100a-d20d-4e19-acc9-751146ec48bb",
   "metadata": {},
   "outputs": [
    {
     "data": {
      "text/plain": [
       "0    34.0\n",
       "1    45.0\n",
       "2    46.0\n",
       "3    47.0\n",
       "4    49.0\n",
       "5    50.0\n",
       "6    48.0\n",
       "Name: MovingAverage, dtype: float64"
      ]
     },
     "execution_count": 127,
     "metadata": {},
     "output_type": "execute_result"
    }
   ],
   "source": [
    "df4['MovingAverage'].rolling(window=1).mean()"
   ]
  },
  {
   "cell_type": "code",
   "execution_count": 128,
   "id": "09add2b4-8f85-488f-a2ef-e9b52bf4b5b0",
   "metadata": {},
   "outputs": [
    {
     "data": {
      "text/plain": [
       "0          NaN\n",
       "1          NaN\n",
       "2          NaN\n",
       "3          NaN\n",
       "4          NaN\n",
       "5          NaN\n",
       "6    45.571429\n",
       "Name: MovingAverage, dtype: float64"
      ]
     },
     "execution_count": 128,
     "metadata": {},
     "output_type": "execute_result"
    }
   ],
   "source": [
    "df4['MovingAverage'].rolling(window=7).mean()"
   ]
  },
  {
   "cell_type": "code",
   "execution_count": 1,
   "id": "2581649b-f9b5-4143-956f-a4171b1e9527",
   "metadata": {},
   "outputs": [],
   "source": [
    "import pandas as pd"
   ]
  },
  {
   "cell_type": "code",
   "execution_count": 11,
   "id": "1b900dc4-fc19-4127-b3eb-87453dab8df1",
   "metadata": {},
   "outputs": [],
   "source": [
    "#Q.8\n",
    "data=({'A':[5,6,7,8],\n",
    "       'B':[9,5,7,6],\n",
    "       'C':[11,12,13,14]\n",
    "      })\n"
   ]
  },
  {
   "cell_type": "code",
   "execution_count": 4,
   "id": "86f52f0c-6c6a-4da5-902d-1a4dfbfcb701",
   "metadata": {},
   "outputs": [],
   "source": [
    "df=pd.DataFrame(data)"
   ]
  },
  {
   "cell_type": "code",
   "execution_count": 5,
   "id": "7fde1203-fa33-44bb-9eff-7523662065bb",
   "metadata": {},
   "outputs": [
    {
     "data": {
      "text/html": [
       "<div>\n",
       "<style scoped>\n",
       "    .dataframe tbody tr th:only-of-type {\n",
       "        vertical-align: middle;\n",
       "    }\n",
       "\n",
       "    .dataframe tbody tr th {\n",
       "        vertical-align: top;\n",
       "    }\n",
       "\n",
       "    .dataframe thead th {\n",
       "        text-align: right;\n",
       "    }\n",
       "</style>\n",
       "<table border=\"1\" class=\"dataframe\">\n",
       "  <thead>\n",
       "    <tr style=\"text-align: right;\">\n",
       "      <th></th>\n",
       "      <th>A</th>\n",
       "      <th>B</th>\n",
       "      <th>C</th>\n",
       "    </tr>\n",
       "  </thead>\n",
       "  <tbody>\n",
       "    <tr>\n",
       "      <th>0</th>\n",
       "      <td>5</td>\n",
       "      <td>9</td>\n",
       "      <td>11</td>\n",
       "    </tr>\n",
       "    <tr>\n",
       "      <th>1</th>\n",
       "      <td>6</td>\n",
       "      <td>5</td>\n",
       "      <td>12</td>\n",
       "    </tr>\n",
       "    <tr>\n",
       "      <th>2</th>\n",
       "      <td>7</td>\n",
       "      <td>7</td>\n",
       "      <td>13</td>\n",
       "    </tr>\n",
       "    <tr>\n",
       "      <th>3</th>\n",
       "      <td>8</td>\n",
       "      <td>6</td>\n",
       "      <td>14</td>\n",
       "    </tr>\n",
       "  </tbody>\n",
       "</table>\n",
       "</div>"
      ],
      "text/plain": [
       "   A  B   C\n",
       "0  5  9  11\n",
       "1  6  5  12\n",
       "2  7  7  13\n",
       "3  8  6  14"
      ]
     },
     "execution_count": 5,
     "metadata": {},
     "output_type": "execute_result"
    }
   ],
   "source": [
    "df"
   ]
  },
  {
   "cell_type": "code",
   "execution_count": 10,
   "id": "eb2db917-b057-4dc7-bb44-d410a8aaebd3",
   "metadata": {},
   "outputs": [
    {
     "data": {
      "text/html": [
       "<div>\n",
       "<style scoped>\n",
       "    .dataframe tbody tr th:only-of-type {\n",
       "        vertical-align: middle;\n",
       "    }\n",
       "\n",
       "    .dataframe tbody tr th {\n",
       "        vertical-align: top;\n",
       "    }\n",
       "\n",
       "    .dataframe thead th {\n",
       "        text-align: right;\n",
       "    }\n",
       "</style>\n",
       "<table border=\"1\" class=\"dataframe\">\n",
       "  <thead>\n",
       "    <tr style=\"text-align: right;\">\n",
       "      <th></th>\n",
       "      <th>A</th>\n",
       "      <th>B</th>\n",
       "      <th>C</th>\n",
       "    </tr>\n",
       "  </thead>\n",
       "  <tbody>\n",
       "    <tr>\n",
       "      <th>0</th>\n",
       "      <td>5</td>\n",
       "      <td>9</td>\n",
       "      <td>11</td>\n",
       "    </tr>\n",
       "    <tr>\n",
       "      <th>2</th>\n",
       "      <td>7</td>\n",
       "      <td>7</td>\n",
       "      <td>13</td>\n",
       "    </tr>\n",
       "  </tbody>\n",
       "</table>\n",
       "</div>"
      ],
      "text/plain": [
       "   A  B   C\n",
       "0  5  9  11\n",
       "2  7  7  13"
      ]
     },
     "execution_count": 10,
     "metadata": {},
     "output_type": "execute_result"
    }
   ],
   "source": [
    "df[0::2]"
   ]
  },
  {
   "cell_type": "code",
   "execution_count": null,
   "id": "480adc3d-1b90-4753-9f09-afdf599d292b",
   "metadata": {},
   "outputs": [],
   "source": []
  }
 ],
 "metadata": {
  "kernelspec": {
   "display_name": "Python 3 (ipykernel)",
   "language": "python",
   "name": "python3"
  },
  "language_info": {
   "codemirror_mode": {
    "name": "ipython",
    "version": 3
   },
   "file_extension": ".py",
   "mimetype": "text/x-python",
   "name": "python",
   "nbconvert_exporter": "python",
   "pygments_lexer": "ipython3",
   "version": "3.11.4"
  }
 },
 "nbformat": 4,
 "nbformat_minor": 5
}
